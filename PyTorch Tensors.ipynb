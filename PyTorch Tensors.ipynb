{
 "cells": [
  {
   "cell_type": "markdown",
   "metadata": {},
   "source": [
    "# Pytorch #\n",
    "## Tensors ##"
   ]
  },
  {
   "cell_type": "code",
   "execution_count": 29,
   "metadata": {
    "collapsed": true
   },
   "outputs": [],
   "source": [
    "from __future__ import print_function\n",
    "import torch"
   ]
  },
  {
   "cell_type": "markdown",
   "metadata": {},
   "source": [
    "## Construct a 5x3 matrix"
   ]
  },
  {
   "cell_type": "code",
   "execution_count": 30,
   "metadata": {},
   "outputs": [
    {
     "name": "stdout",
     "output_type": "stream",
     "text": [
      "tensor(1.00000e-36 *\n",
      "       [[ 0.0001,  0.0000,  0.0000],\n",
      "        [ 0.0000,  0.0000,  0.0000],\n",
      "        [ 0.4158,  0.0000,  0.0000],\n",
      "        [ 0.0000,  0.0001,  0.0000],\n",
      "        [ 2.0183,  0.0000,  0.0000]])\n"
     ]
    }
   ],
   "source": [
    "x = torch.empty(5,3)\n",
    "print(x)"
   ]
  },
  {
   "cell_type": "markdown",
   "metadata": {},
   "source": [
    "## Construct a randomly initialized matrix ##"
   ]
  },
  {
   "cell_type": "code",
   "execution_count": 3,
   "metadata": {},
   "outputs": [
    {
     "name": "stdout",
     "output_type": "stream",
     "text": [
      "tensor([[ 0.2160,  0.9818,  0.4937],\n",
      "        [ 0.8137,  0.0965,  0.5956],\n",
      "        [ 0.1817,  0.9467,  0.7179],\n",
      "        [ 0.4344,  0.3123,  0.5304],\n",
      "        [ 0.9354,  0.5434,  0.4993]])\n"
     ]
    }
   ],
   "source": [
    "x = torch.rand(5,3)\n",
    "print (x)"
   ]
  },
  {
   "cell_type": "markdown",
   "metadata": {},
   "source": [
    "## Construct a Matrix filled with zedps pf type dtype long: ##"
   ]
  },
  {
   "cell_type": "code",
   "execution_count": 5,
   "metadata": {},
   "outputs": [
    {
     "name": "stdout",
     "output_type": "stream",
     "text": [
      "tensor([[ 0,  0,  0],\n",
      "        [ 0,  0,  0],\n",
      "        [ 0,  0,  0],\n",
      "        [ 0,  0,  0],\n",
      "        [ 0,  0,  0]])\n"
     ]
    }
   ],
   "source": [
    "x = torch.zeros(5,3, dtype=torch.long)\n",
    "print (x)"
   ]
  },
  {
   "cell_type": "markdown",
   "metadata": {},
   "source": [
    "## Construct a tensor directly from data ##"
   ]
  },
  {
   "cell_type": "code",
   "execution_count": 6,
   "metadata": {},
   "outputs": [
    {
     "name": "stdout",
     "output_type": "stream",
     "text": [
      "tensor([ 5.5000,  3.0000])\n"
     ]
    }
   ],
   "source": [
    "x = torch.tensor([5.5,3])\n",
    "print (x)"
   ]
  },
  {
   "cell_type": "markdown",
   "metadata": {},
   "source": [
    "## Create a tensor basing on existing tensor. ##"
   ]
  },
  {
   "cell_type": "code",
   "execution_count": 9,
   "metadata": {},
   "outputs": [
    {
     "name": "stdout",
     "output_type": "stream",
     "text": [
      "tensor([[ 1.,  1.,  1.],\n",
      "        [ 1.,  1.,  1.],\n",
      "        [ 1.,  1.,  1.],\n",
      "        [ 1.,  1.,  1.],\n",
      "        [ 1.,  1.,  1.]], dtype=torch.float64)\n",
      "tensor([[ 0.8237,  0.9364,  0.7029],\n",
      "        [ 0.4029,  0.0971,  0.6284],\n",
      "        [ 0.2271,  0.5985,  0.2739],\n",
      "        [ 0.8908,  0.3921,  0.6925],\n",
      "        [ 0.8432,  0.7020,  0.2299]])\n"
     ]
    }
   ],
   "source": [
    "x = x.new_ones(5,3, dtype= torch.double)\n",
    "print (x)\n",
    "\n",
    "x= torch.rand_like(x, dtype=torch.float) #takes the size of the previuos tensor \n",
    "print(x)"
   ]
  },
  {
   "cell_type": "code",
   "execution_count": 10,
   "metadata": {},
   "outputs": [
    {
     "name": "stdout",
     "output_type": "stream",
     "text": [
      "torch.Size([5, 3])\n"
     ]
    }
   ],
   "source": [
    "print(x.size())"
   ]
  },
  {
   "cell_type": "markdown",
   "metadata": {},
   "source": [
    "## Operations ##\n",
    "Addition"
   ]
  },
  {
   "cell_type": "code",
   "execution_count": 12,
   "metadata": {},
   "outputs": [
    {
     "name": "stdout",
     "output_type": "stream",
     "text": [
      "tensor([[ 1.3980,  1.4036,  1.2883],\n",
      "        [ 1.1423,  0.5591,  0.6535],\n",
      "        [ 0.7425,  0.6304,  1.0066],\n",
      "        [ 1.5753,  1.0713,  0.7665],\n",
      "        [ 0.9135,  1.4190,  0.2520]])\n",
      "tensor([[ 1.3980,  1.4036,  1.2883],\n",
      "        [ 1.1423,  0.5591,  0.6535],\n",
      "        [ 0.7425,  0.6304,  1.0066],\n",
      "        [ 1.5753,  1.0713,  0.7665],\n",
      "        [ 0.9135,  1.4190,  0.2520]])\n"
     ]
    }
   ],
   "source": [
    "y = torch.rand(5,3)\n",
    "print (x + y)\n",
    "print(torch.add(x, y))"
   ]
  },
  {
   "cell_type": "markdown",
   "metadata": {},
   "source": [
    "Addition in place"
   ]
  },
  {
   "cell_type": "code",
   "execution_count": 16,
   "metadata": {},
   "outputs": [
    {
     "name": "stdout",
     "output_type": "stream",
     "text": [
      "tensor([[ 0.8237,  0.9364,  0.7029],\n",
      "        [ 0.4029,  0.0971,  0.6284],\n",
      "        [ 0.2271,  0.5985,  0.2739],\n",
      "        [ 0.8908,  0.3921,  0.6925],\n",
      "        [ 0.8432,  0.7020,  0.2299]])\n",
      "tensor([[ 3.8690,  4.2129,  3.3969],\n",
      "        [ 2.3509,  0.8504,  2.5388],\n",
      "        [ 1.4239,  2.4258,  1.8283],\n",
      "        [ 4.2477,  2.2475,  2.8440],\n",
      "        [ 3.4432,  3.5251,  0.9417]])\n"
     ]
    }
   ],
   "source": [
    "print(x)\n",
    "y.add_(x)\n",
    "print(y)"
   ]
  },
  {
   "cell_type": "markdown",
   "metadata": {},
   "source": [
    "You can use Numpy like indexing "
   ]
  },
  {
   "cell_type": "code",
   "execution_count": 18,
   "metadata": {},
   "outputs": [
    {
     "name": "stdout",
     "output_type": "stream",
     "text": [
      "tensor([ 0.9364,  0.0971,  0.5985,  0.3921,  0.7020])\n"
     ]
    }
   ],
   "source": [
    "print(x[:,1])"
   ]
  },
  {
   "cell_type": "markdown",
   "metadata": {},
   "source": [
    "Resizing tensors"
   ]
  },
  {
   "cell_type": "code",
   "execution_count": 21,
   "metadata": {},
   "outputs": [
    {
     "name": "stdout",
     "output_type": "stream",
     "text": [
      "tensor([[ 1.6787,  0.3622, -0.7174, -1.4772],\n",
      "        [-0.4052, -0.3431, -0.8034, -1.2759],\n",
      "        [-0.1397, -1.4649,  1.2471, -0.7167],\n",
      "        [ 0.2038, -0.1035,  0.9155, -1.5032]])\n",
      "tensor([ 1.6787,  0.3622, -0.7174, -1.4772, -0.4052, -0.3431, -0.8034,\n",
      "        -1.2759, -0.1397, -1.4649,  1.2471, -0.7167,  0.2038, -0.1035,\n",
      "         0.9155, -1.5032])\n",
      "tensor([[ 1.6787,  0.3622, -0.7174, -1.4772, -0.4052, -0.3431, -0.8034,\n",
      "         -1.2759],\n",
      "        [-0.1397, -1.4649,  1.2471, -0.7167,  0.2038, -0.1035,  0.9155,\n",
      "         -1.5032]])\n",
      "torch.Size([4, 4]) torch.Size([16]) torch.Size([2, 8])\n"
     ]
    }
   ],
   "source": [
    "x = torch.randn(4,4)\n",
    "y = x.view(16)\n",
    "z= x.view(-1,8) # the size -1 is inferred from other dimensions\n",
    "print(x)\n",
    "print(y)\n",
    "print(z)\n",
    "print (x.size(),y.size(),z.size())"
   ]
  },
  {
   "cell_type": "markdown",
   "metadata": {},
   "source": [
    "If you have a one element tensor, use .item() to get the value as a Python number"
   ]
  },
  {
   "cell_type": "code",
   "execution_count": 23,
   "metadata": {},
   "outputs": [
    {
     "name": "stdout",
     "output_type": "stream",
     "text": [
      "tensor([-0.6234])\n",
      "-0.6234117150306702\n"
     ]
    }
   ],
   "source": [
    "x = torch.randn(1)\n",
    "print(x)\n",
    "print(x.item())"
   ]
  },
  {
   "cell_type": "markdown",
   "metadata": {},
   "source": [
    "Converting a Torch Tensor to a NumPy Array"
   ]
  },
  {
   "cell_type": "code",
   "execution_count": 24,
   "metadata": {},
   "outputs": [
    {
     "name": "stdout",
     "output_type": "stream",
     "text": [
      "tensor([ 1.,  1.,  1.,  1.,  1.])\n",
      "[ 1.  1.  1.  1.  1.]\n"
     ]
    }
   ],
   "source": [
    "a = torch.ones(5)\n",
    "print(a)\n",
    "b = a.numpy()\n",
    "print(b)"
   ]
  },
  {
   "cell_type": "code",
   "execution_count": 25,
   "metadata": {},
   "outputs": [
    {
     "name": "stdout",
     "output_type": "stream",
     "text": [
      "tensor([ 2.,  2.,  2.,  2.,  2.])\n",
      "[ 2.  2.  2.  2.  2.]\n"
     ]
    }
   ],
   "source": [
    "a.add_(1)\n",
    "print(a)\n",
    "print(b)"
   ]
  },
  {
   "cell_type": "markdown",
   "metadata": {},
   "source": [
    "Converting NumPy Array to Torch Tensor"
   ]
  },
  {
   "cell_type": "code",
   "execution_count": 28,
   "metadata": {},
   "outputs": [
    {
     "name": "stdout",
     "output_type": "stream",
     "text": [
      "[ 1.  1.  1.  1.  1.]\n",
      "[ 2.  2.  2.  2.  2.]\n",
      "tensor([ 2.,  2.,  2.,  2.,  2.], dtype=torch.float64)\n"
     ]
    }
   ],
   "source": [
    "import numpy as np\n",
    "a = np.ones(5)\n",
    "print(a)\n",
    "b = torch.from_numpy(a)\n",
    "np.add(a,1,out=a)\n",
    "print(a)\n",
    "print(b)"
   ]
  },
  {
   "cell_type": "code",
   "execution_count": null,
   "metadata": {
    "collapsed": true
   },
   "outputs": [],
   "source": []
  }
 ],
 "metadata": {
  "kernelspec": {
   "display_name": "Python 3",
   "language": "python",
   "name": "python3"
  },
  "language_info": {
   "codemirror_mode": {
    "name": "ipython",
    "version": 3
   },
   "file_extension": ".py",
   "mimetype": "text/x-python",
   "name": "python",
   "nbconvert_exporter": "python",
   "pygments_lexer": "ipython3",
   "version": "3.6.1"
  },
  "widgets": {
   "application/vnd.jupyter.widget-state+json": {
    "state": {},
    "version_major": 1,
    "version_minor": 0
   }
  }
 },
 "nbformat": 4,
 "nbformat_minor": 2
}
