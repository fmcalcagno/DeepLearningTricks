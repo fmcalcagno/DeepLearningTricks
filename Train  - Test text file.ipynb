{
 "cells": [
  {
   "cell_type": "markdown",
   "metadata": {},
   "source": [
    "## Generation a text File for Train and test Sets ##"
   ]
  },
  {
   "cell_type": "markdown",
   "metadata": {},
   "source": [
    "Generate 2 lists of train/tests gif files\n",
    "\n",
    "Train file: \n",
    "gif name | folder | class\n"
   ]
  },
  {
   "cell_type": "code",
   "execution_count": 7,
   "metadata": {
    "collapsed": true
   },
   "outputs": [],
   "source": [
    "inputFolder='../TaraData/exportimg_160_20180423_0936/'"
   ]
  },
  {
   "cell_type": "code",
   "execution_count": 84,
   "metadata": {},
   "outputs": [],
   "source": [
    "train=[]\n",
    "test=[]\n",
    "import os\n",
    "import glob\n",
    "from tqdm import tqdm\n",
    "import pandas as pd \n",
    "\n",
    "def makefile(Path):\n",
    "    for directory in tqdm(os.listdir(Path)):\n",
    "        #print(directory)\n",
    "        if directory != \"labels\":\n",
    "            plancton,_ = directory.split(\"_\")\n",
    "            i=0\n",
    "            for fnb in glob.glob(Path+directory+'/*.gif'):\n",
    "                i=+1\n",
    "                head, tail = os.path.split(fnb)\n",
    "                if (np.random.rand() < 0.8):\n",
    "                    train.append((tail,directory,plancton))\n",
    "                else:\n",
    "                    test.append((tail,directory,plancton))             \n",
    "    return train,test"
   ]
  },
  {
   "cell_type": "code",
   "execution_count": 85,
   "metadata": {},
   "outputs": [
    {
     "name": "stderr",
     "output_type": "stream",
     "text": [
      "100%|████████████████████████████████████████| 157/157 [00:02<00:00, 54.68it/s]\n"
     ]
    }
   ],
   "source": [
    "train,test= makefile(inputFolder)\n",
    "\n",
    "dftrain = pd.DataFrame(train)\n",
    "dftest = pd.DataFrame(test)\n"
   ]
  },
  {
   "cell_type": "code",
   "execution_count": 86,
   "metadata": {},
   "outputs": [],
   "source": [
    "dftrain.to_csv(\"plancton-train.csv\",sep=\";\",header=(\"file\",\"folder\",\"type\"))\n",
    "dftest.to_csv(\"plancton-test.csv\",sep=\";\",header=(\"file\",\"folder\",\"type\"))"
   ]
  },
  {
   "cell_type": "code",
   "execution_count": null,
   "metadata": {
    "collapsed": true
   },
   "outputs": [],
   "source": []
  }
 ],
 "metadata": {
  "kernelspec": {
   "display_name": "Python 3",
   "language": "python",
   "name": "python3"
  },
  "language_info": {
   "codemirror_mode": {
    "name": "ipython",
    "version": 3
   },
   "file_extension": ".py",
   "mimetype": "text/x-python",
   "name": "python",
   "nbconvert_exporter": "python",
   "pygments_lexer": "ipython3",
   "version": "3.6.1"
  }
 },
 "nbformat": 4,
 "nbformat_minor": 2
}
