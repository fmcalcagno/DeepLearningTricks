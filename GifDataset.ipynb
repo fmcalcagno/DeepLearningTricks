{
 "cells": [
  {
   "cell_type": "markdown",
   "metadata": {},
   "source": [
    "# Gif Dataset #"
   ]
  },
  {
   "cell_type": "code",
   "execution_count": 2,
   "metadata": {},
   "outputs": [],
   "source": [
    "\"\"\"\n",
    "PyTorch Giff Dataset Class for loading gifs using Pytorch DataLoader.\n",
    "This Dataset resizes all frames to a specific size.\n",
    "\n",
    "Facundo Calcagno\n",
    "\"\"\"\n",
    "from __future__ import print_function, division\n",
    "import cv2\n",
    "import os\n",
    "import torch\n",
    "import numpy as np\n",
    "import pickle\n",
    "from torch.utils.data import Dataset, DataLoader\n",
    "from torchvision import transforms, utils\n",
    "from PIL import Image,ImageFilter , ImageOps, ImageDraw\n",
    "import imageio\n",
    "import pandas as pd\n",
    "import torch.utils.data as data"
   ]
  },
  {
   "cell_type": "code",
   "execution_count": 3,
   "metadata": {},
   "outputs": [],
   "source": [
    "class gifDataSet(data.Dataset):\n",
    "    \"\"\"Dataset Class for loading Gif into a 3D Tensor\"\"\"\n",
    "    def __init__(self,gifList,rootDir, channels,  timeDepth, xSize, ySize, \n",
    "                 startFrame,endFrame,transform=None):\n",
    "        \"\"\"\n",
    "        Args:\n",
    "        clipsList (string): Path to the clipsList file with labels.\n",
    "        rootDir (string): Directory with all the gifs.\n",
    "        transform (callable, optional): Optional transform to be applied\n",
    "            on a sample.\n",
    "        channels: Number of channels of frames\n",
    "        timeDepth: Number of frames to be loaded in a sample\n",
    "        xSize, ySize: Dimensions of the frames\n",
    "        mean: Mean valuse of the training set videos over each channel\n",
    "        \"\"\"\n",
    "        self.gifList = gifList\n",
    "        self.rootDir = rootDir\n",
    "        self.channels = channels\n",
    "        self.timeDepth = timeDepth\n",
    "        self.xSize = xSize\n",
    "        self.ySize = ySize\n",
    "        #self.mean = mean\n",
    "        self.transform = transform\n",
    "        self.startFrame=startFrame\n",
    "        self.endFrame=endFrame\n",
    "\n",
    "    \n",
    "    def __len__(self):\n",
    "        return len(self.gifList)\n",
    "    \n",
    "    def crop6(self,im):\n",
    "        number_of_cols=3\n",
    "        W=im.width\n",
    "        H=im.height\n",
    "        w=(W-16)/3\n",
    "        h=(H-24)/2\n",
    "        images=[]\n",
    "        w1=0\n",
    "        w2=w\n",
    "        for i in range(number_of_cols):\n",
    "            im1=im.crop((w1, 0, w2, h))\n",
    "            images.append(im1)\n",
    "            im1=im.crop((w1, h+8, w2, 2*h+8))\n",
    "            images.append(im1)\n",
    "            w1=w2+8\n",
    "            w2=w2+w+8\n",
    "        return images\n",
    "    \n",
    "    def readGif(self, gifFile):\n",
    "        # Open the gif file, crop it and return the frames in a tensor\n",
    "        image_gif=Image.open(self.rootDir+ gifFile, mode='r')\n",
    "        frames = torch.FloatTensor(self.timeDepth,  self.xSize, self.ySize,self.channels)\n",
    "        nframes = 0\n",
    "        nframesin=0\n",
    "        while image_gif:\n",
    "            if self.startFrame<nframes<self.endFrame:\n",
    "                six_images=self.crop6(image_gif)\n",
    "                # I keep image 4 that is the original, but in the future I might use others \n",
    "                # as different channels\n",
    "                if self.channels == 3: pil_image = six_images[4].convert(\"RGB\")\n",
    "                if self.channels == 1: pil_image = six_images[4].convert(\"L\")  \n",
    "                imResize=pil_image.resize((self.xSize, self.ySize),Image.ANTIALIAS)\n",
    "                frame = torch.from_numpy(np.array(imResize))\n",
    "                if self.channels == 1: frame=torch.unsqueeze(frame,2)\n",
    "                #frame = frame.permute(2, 0, 1)\n",
    "                frames[nframesin, :, :, :] = frame\n",
    "                nframesin+=1\n",
    "            nframes += 1\n",
    "            try:\n",
    "                image_gif.seek( nframes )\n",
    "            except EOFError:\n",
    "                break;\n",
    "            \n",
    "        image_gif.close()\n",
    "        return frames\n",
    "    \n",
    "    def makeGif(self,gifTensor,gifFile):\n",
    "        # With a Pytorch Tensor generate a gif file\n",
    "        with imageio.get_writer(gifFile, mode='I') as writer:\n",
    "            nframes=0\n",
    "            while nframes<self.timeDepth:\n",
    "                frame=gifTensor[nframes,:,:,:].numpy()\n",
    "                writer.append_data(frame)\n",
    "                nframes+=1\n",
    "        return writer\n",
    "    \n",
    "    def __getitem__(self, idx):\n",
    "        gifFile= os.path.join(self.rootDir, self.gifList[idx][0])\n",
    "        clip = self.readGif(gifFile)\n",
    "        if self.transform:\n",
    "            clip = self.transform(clip)\n",
    "        sample = {'clip': clip, 'label': self.gifList[idx][1]}\n",
    "        "
   ]
  },
  {
   "cell_type": "code",
   "execution_count": 4,
   "metadata": {},
   "outputs": [],
   "source": [
    "rootDir=\"gifs/\"\n",
    "import glob\n",
    "mypath=rootDir+'Mediophyceae_Hemiaulus'\n",
    "a=glob.glob(rootDir+'*.gif')"
   ]
  },
  {
   "cell_type": "markdown",
   "metadata": {},
   "source": [
    "We are going to keep the top right image of all gifs and resize to a 100x100x3 tensor."
   ]
  },
  {
   "cell_type": "code",
   "execution_count": 5,
   "metadata": {},
   "outputs": [],
   "source": [
    "#gifListFile='gifs.pickle';rootDir=\"gifs/\";channels=1;timeDepth=3;xSize=100;ySize=100\n",
    "#startFrame=1;endFrame=5"
   ]
  },
  {
   "cell_type": "code",
   "execution_count": 6,
   "metadata": {},
   "outputs": [],
   "source": [
    "#gifDataset= gifDataSet(a,rootDir,channels,timeDepth,xSize,ySize,startFrame,endFrame)"
   ]
  },
  {
   "cell_type": "markdown",
   "metadata": {},
   "source": [
    "### Testing Reading and writing a Gif ##"
   ]
  },
  {
   "cell_type": "markdown",
   "metadata": {},
   "source": [
    "### Original Image"
   ]
  },
  {
   "cell_type": "markdown",
   "metadata": {},
   "source": [
    "<img src=\"gifs/10753468_S127--D0--R27--G100010824--A131203--L02236--animation.gif\" width=\"300\">"
   ]
  },
  {
   "cell_type": "markdown",
   "metadata": {},
   "source": [
    "### Convertion Code ###\n",
    "\n",
    "With the Following Code we are able to Input the full image, retreive the original Image from the gif, export a Pytorch Tensor and with that Tensor export a Gif file if necessary."
   ]
  },
  {
   "cell_type": "code",
   "execution_count": 7,
   "metadata": {},
   "outputs": [],
   "source": [
    "#tensor=gifDataset.readGif(\"10753468_S127--D0--R27--G100010824--A131203--L02236--animation.gif\")"
   ]
  },
  {
   "cell_type": "code",
   "execution_count": 8,
   "metadata": {
    "scrolled": true
   },
   "outputs": [],
   "source": [
    "#image= gifDataset.makeGif(tensor,'gifs/test.gif')"
   ]
  },
  {
   "cell_type": "markdown",
   "metadata": {},
   "source": [
    "### Converted Image ###"
   ]
  },
  {
   "cell_type": "markdown",
   "metadata": {},
   "source": [
    "![alt text](gifs/test.gif \"Conv 2D\")"
   ]
  },
  {
   "cell_type": "markdown",
   "metadata": {},
   "source": [
    "### Use train and test files created in ``Train Test text file``  to import files into the Class"
   ]
  },
  {
   "cell_type": "code",
   "execution_count": 9,
   "metadata": {},
   "outputs": [],
   "source": [
    "trainset=\"plancton-train.csv\"\n",
    "testset=\"plancton-test.csv\"\n",
    "trainlist=pd.read_csv(trainset,delimiter=\";\",header=1,names =(\"file\",\"folder\",\"type\"))\n",
    "testlist=pd.read_csv(testset,delimiter=\";\",header=1,names =(\"file\",\"folder\",\"type\"))"
   ]
  },
  {
   "cell_type": "code",
   "execution_count": 13,
   "metadata": {},
   "outputs": [],
   "source": [
    "train_loader = data.DataLoader(gifDataSet(gifList=trainlist,\n",
    "                                          rootDir=\"../TaraData/exportimg_160_20180423_0936/\",\n",
    "                                          channels=1,timeDepth=3,xSize=100,ySize=100,\n",
    "                                          startFrame=1,endFrame=5), \n",
    "                               batch_size=1, shuffle=True)"
   ]
  },
  {
   "cell_type": "code",
   "execution_count": 14,
   "metadata": {
    "collapsed": true
   },
   "outputs": [],
   "source": [
    "test_loader = data.DataLoader(gifDataSet(gifList=testlist,\n",
    "                                          rootDir=\"../TaraData/exportimg_160_20180423_0936/\",\n",
    "                                          channels=1,timeDepth=3,xSize=100,ySize=100,\n",
    "                                          startFrame=1,endFrame=5), \n",
    "                               batch_size=1, shuffle=True)"
   ]
  },
  {
   "cell_type": "code",
   "execution_count": null,
   "metadata": {
    "collapsed": true
   },
   "outputs": [],
   "source": []
  }
 ],
 "metadata": {
  "kernelspec": {
   "display_name": "Python 3",
   "language": "python",
   "name": "python3"
  }
 },
 "nbformat": 4,
 "nbformat_minor": 2
}
